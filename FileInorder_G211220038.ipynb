{
  "nbformat": 4,
  "nbformat_minor": 0,
  "metadata": {
    "colab": {
      "provenance": [],
      "authorship_tag": "ABX9TyPUcnr+Mmw5+qD6lqVzW4l9",
      "include_colab_link": true
    },
    "kernelspec": {
      "name": "python3",
      "display_name": "Python 3"
    },
    "language_info": {
      "name": "python"
    }
  },
  "cells": [
    {
      "cell_type": "markdown",
      "metadata": {
        "id": "view-in-github",
        "colab_type": "text"
      },
      "source": [
        "<a href=\"https://colab.research.google.com/github/dhmrilhamk263/registrasi/blob/main/FileInorder_G211220038.ipynb\" target=\"_parent\"><img src=\"https://colab.research.google.com/assets/colab-badge.svg\" alt=\"Open In Colab\"/></a>"
      ]
    },
    {
      "cell_type": "code",
      "source": [
        "# Python3 program for tree traversals\n",
        "# Inorder\n",
        "\n",
        "class Node:\n",
        "    def __init__(self, key):\n",
        "        self.left = None\n",
        "        self.right = None\n",
        "        self.val = key\n",
        "\n",
        "# A function to do Inorder tree traversal\n",
        "def printInorder(root):\n",
        "    if root:\n",
        "        # First recur on left child\n",
        "        printInorder(root.left)\n",
        "\n",
        "        # Then print the data of node\n",
        "        print(root.val, end=\" \")\n",
        "\n",
        "        # Now recur on right child\n",
        "        printInorder(root.right)\n",
        "\n",
        "\n",
        "\n",
        "# Driver code\n",
        "if __name__ == \"__main__\":\n",
        "    root = Node(1)\n",
        "    root.left = Node(2)\n",
        "    root.right = Node(3)\n",
        "    root.left.left = Node(4)\n",
        "    root.left.right = Node(5)\n",
        "\n",
        "    # Function calls\n",
        "\n",
        "\n",
        "    print(\"\\nPreorder traversal of binary tree is:\")\n",
        "    printPreorder(root)\n",
        "\n",
        ""
      ],
      "metadata": {
        "colab": {
          "base_uri": "https://localhost:8080/"
        },
        "id": "WAO27ho463WU",
        "outputId": "0d337e1f-2a60-4e07-d383-28396e7bf39c"
      },
      "execution_count": 19,
      "outputs": [
        {
          "output_type": "stream",
          "name": "stdout",
          "text": [
            "\n",
            "Preorder traversal of binary tree is:\n",
            "1 2 4 5 3 "
          ]
        }
      ]
    }
  ]
}